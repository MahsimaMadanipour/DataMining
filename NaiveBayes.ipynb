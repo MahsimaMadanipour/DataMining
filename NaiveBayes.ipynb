{
 "cells": [
  {
   "cell_type": "code",
   "execution_count": 7,
   "id": "a173377a-d826-4e28-a12c-3463b36fc727",
   "metadata": {},
   "outputs": [
    {
     "name": "stdout",
     "output_type": "stream",
     "text": [
      "0.1087719298245614\n"
     ]
    }
   ],
   "source": [
    "from math import sqrt, pi, exp, floor\n",
    "from statistics import mean, stdev\n",
    "from files import readFile\n",
    "import random\n",
    "\n",
    "def separate_by_class(dataset):\n",
    "\tseparated = {}\n",
    "\tfor d in dataset:\n",
    "\t\tseparated.setdefault(d[-1], []).append(d)\n",
    "\treturn separated\n",
    "\n",
    "def summarize_dataset(dataset):\n",
    "\treturn [(mean(column), stdev(column), len(column)) for column in list(zip(*dataset))[:-1]]\n",
    "\n",
    "def summarize_by_class(dataset):\n",
    "\treturn {key: summarize_dataset(value) for key, value in separate_by_class(dataset).items()}\n",
    "\n",
    "def calculate_probability(x, mean, stdev):\n",
    "\texponent = exp(-((x-mean)**2 / (2 * stdev**2 )))\n",
    "\treturn (1 / (sqrt(2 * pi) * stdev)) * exponent\n",
    " \n",
    "def calculate_class_probabilities(summaries, test_row):\n",
    "\ttotal_rows = sum([summaries[label][0][2] for label in summaries])\n",
    "\tprobabilities = {}\n",
    "\tfor key, value in summaries.items():\n",
    "\t\tprobabilities[key] = summaries[key][0][2]/total_rows\n",
    "\t\tfor i, v in enumerate(value):\n",
    "\t\t\tprobabilities[key] *= calculate_probability(test_row[i], v[0], v[1])\n",
    "\treturn probabilities\n",
    "\n",
    "dataset = readFile(\"Breast_cancer_data.csv\")\n",
    "\n",
    "errors = []\n",
    "for i in range(5):\n",
    "\trandom.shuffle(dataset)\n",
    "\tx = floor(len(dataset) * 0.8)\n",
    "\ttrain = dataset[:x]\n",
    "\ttest = dataset[x:]\n",
    "\terror = 0\n",
    "\tfor t in test:\n",
    "\t\tsummaries = summarize_by_class(train)\n",
    "\t\tprobabilities = calculate_class_probabilities(summaries, t)\n",
    "\t\tprint(\"Probabilities:\", probabilities)\n",
    "\t\tresult = max(probabilities, key=probabilities.get)\n",
    "\t\tprint(\"Result:\", result)\n",
    "\t\tif result != t[-1]:\n",
    "\t\t\terror += 1\n",
    "\terrors.append(error / len(test))\n",
    "print(\"Errors average:\", mean(errors))"
   ]
  }
 ],
 "metadata": {
  "kernelspec": {
   "display_name": "Python 3 (ipykernel)",
   "language": "python",
   "name": "python3"
  },
  "language_info": {
   "codemirror_mode": {
    "name": "ipython",
    "version": 3
   },
   "file_extension": ".py",
   "mimetype": "text/x-python",
   "name": "python",
   "nbconvert_exporter": "python",
   "pygments_lexer": "ipython3",
   "version": "3.8.10"
  }
 },
 "nbformat": 4,
 "nbformat_minor": 5
}
