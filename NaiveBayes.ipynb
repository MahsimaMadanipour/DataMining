{
 "cells": [
  {
   "cell_type": "code",
   "execution_count": 22,
   "id": "a173377a-d826-4e28-a12c-3463b36fc727",
   "metadata": {},
   "outputs": [
    {
     "name": "stdout",
     "output_type": "stream",
     "text": [
      "{0: 0.05032427673372076, 1: 0.00011557718379945765}\n"
     ]
    }
   ],
   "source": [
    "from math import sqrt, pi, exp\n",
    "from statistics import mean, stdev\n",
    "\n",
    "def separate_by_class(dataset):\n",
    "\tseparated = {}\n",
    "\tfor d in dataset:\n",
    "\t\tseparated.setdefault(d[-1], []).append(d)\n",
    "\treturn separated\n",
    "\n",
    "def summarize_dataset(dataset):\n",
    "\treturn [(mean(column), stdev(column), len(column)) for column in list(zip(*dataset))[:-1]]\n",
    "\n",
    "def summarize_by_class(dataset):\n",
    "\treturn {key: summarize_dataset(value) for key, value in separate_by_class(dataset).items()}\n",
    "\n",
    "def calculate_probability(x, mean, stdev):\n",
    "\texponent = exp(-((x-mean)**2 / (2 * stdev**2 )))\n",
    "\treturn (1 / (sqrt(2 * pi) * stdev)) * exponent\n",
    " \n",
    "def calculate_class_probabilities(summaries, test_row):\n",
    "\ttotal_rows = sum([summaries[label][0][2] for label in summaries])\n",
    "\tprobabilities = {}\n",
    "\tfor key, value in summaries.items():\n",
    "\t\tprobabilities[key] = summaries[key][0][2]/total_rows\n",
    "\t\tfor i, v in enumerate(value):\n",
    "\t\t\tprobabilities[key] *= calculate_probability(test_row[i], v[0], v[1])\n",
    "\treturn probabilities\n",
    "\n",
    "dataset = [[3.393533211,2.331273381,0],\n",
    "\t[3.110073483,1.781539638,0],\n",
    "\t[1.343808831,3.368360954,0],\n",
    "\t[3.582294042,4.67917911,0],\n",
    "\t[2.280362439,2.866990263,0],\n",
    "\t[7.423436942,4.696522875,1],\n",
    "\t[5.745051997,3.533989803,1],\n",
    "\t[9.172168622,2.511101045,1],\n",
    "\t[7.792783481,3.424088941,1],\n",
    "\t[7.939820817,0.791637231,1]]\n",
    "summaries = summarize_by_class(dataset)\n",
    "probabilities = calculate_class_probabilities(summaries, dataset[0])\n",
    "print(probabilities)"
   ]
  }
 ],
 "metadata": {
  "kernelspec": {
   "display_name": "Python 3 (ipykernel)",
   "language": "python",
   "name": "python3"
  },
  "language_info": {
   "codemirror_mode": {
    "name": "ipython",
    "version": 3
   },
   "file_extension": ".py",
   "mimetype": "text/x-python",
   "name": "python",
   "nbconvert_exporter": "python",
   "pygments_lexer": "ipython3",
   "version": "3.9.5"
  }
 },
 "nbformat": 4,
 "nbformat_minor": 5
}
