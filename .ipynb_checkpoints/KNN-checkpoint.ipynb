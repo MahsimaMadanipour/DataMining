{
 "cells": [
  {
   "cell_type": "code",
   "execution_count": 2,
   "id": "74674a9b-f6bd-4511-ae61-cf0937ef6bec",
   "metadata": {},
   "outputs": [
    {
     "name": "stdout",
     "output_type": "stream",
     "text": [
      "Expected 0, Got 0.\n"
     ]
    }
   ],
   "source": [
    "from math import sqrt\n",
    "from scipy.spatial.distance import cdist\n",
    "from files import readFile\n",
    " \n",
    "def get_neighbors(train, test_row, num_neighbors):\n",
    "\tdistances = []\n",
    "\tfor train_row in train:\n",
    "\t\tdist = cdist([test_row[:len(test_row)-1]], [train_row[:len(train_row)-1]], 'euclidean')\n",
    "\t\tdistances.append((train_row, dist))\n",
    "\tdistances.sort(key=lambda tup: tup[1])\n",
    "\treturn [x[0] for x in distances[:num_neighbors]]\n",
    "\n",
    "def predict_classification(train, test_row, num_neighbors):\n",
    "\tneighbors = get_neighbors(train, test_row, num_neighbors)\n",
    "\toutput_values = [row[-1] for row in neighbors]\n",
    "\tprediction = max(set(output_values), key=output_values.count)\n",
    "\treturn prediction\n",
    "\n",
    "dataset = readFile(\"Breast_cancer_data.csv\")\n",
    "prediction = predict_classification(dataset, dataset[400], 50)\n",
    "print('Expected %d, Got %d.' % (dataset[400][-1], prediction))"
   ]
  },
  {
   "cell_type": "code",
   "execution_count": null,
   "id": "85312b48-5e7e-412b-bf91-b3a76c08187d",
   "metadata": {},
   "outputs": [],
   "source": []
  },
  {
   "cell_type": "code",
   "execution_count": null,
   "id": "99c392fc-260e-4be8-9091-184849838c51",
   "metadata": {},
   "outputs": [],
   "source": []
  },
  {
   "cell_type": "code",
   "execution_count": null,
   "id": "e4571a73-36f4-4492-943b-bf317c79987c",
   "metadata": {},
   "outputs": [],
   "source": []
  }
 ],
 "metadata": {
  "kernelspec": {
   "display_name": "Python 3 (ipykernel)",
   "language": "python",
   "name": "python3"
  },
  "language_info": {
   "codemirror_mode": {
    "name": "ipython",
    "version": 3
   },
   "file_extension": ".py",
   "mimetype": "text/x-python",
   "name": "python",
   "nbconvert_exporter": "python",
   "pygments_lexer": "ipython3",
   "version": "3.8.10"
  }
 },
 "nbformat": 4,
 "nbformat_minor": 5
}
