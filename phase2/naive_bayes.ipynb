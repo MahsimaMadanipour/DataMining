{
 "cells": [
  {
   "cell_type": "code",
   "execution_count": null,
   "id": "b54d38ff",
   "metadata": {
    "scrolled": true
   },
   "outputs": [],
   "source": [
    "!pip3 install scikit-learn\n",
    "!pip3 install pandas"
   ]
  },
  {
   "cell_type": "code",
   "execution_count": null,
   "id": "8799618f",
   "metadata": {},
   "outputs": [],
   "source": [
    "from files import get_onehot_dataset\n",
    "import pandas as pd\n",
    "\n",
    "input_file = \"cardio_train.csv\"\n",
    "df1 = pd.read_csv(input_file, header=0)\n",
    "Y = df1[[\"cardio\"]]\n",
    "X = df1.loc[:, df1.columns != 'cardio']\n",
    "df_num = X.select_dtypes(exclude='object')\n",
    "fold_size = 20\n",
    "print(\"std for each column is for a specific fold:\")\n",
    "print(df_num[0:fold_size].drop([\"id\", \"smoke\", \"alco\", \"active\"], axis=1).std())\n",
    "print(\"mean for each column is for a specific fold:\")\n",
    "print(df_num[0:fold_size].drop([\"id\", \"smoke\", \"alco\", \"active\"], axis=1).mean())\n",
    "print(\"probability of occurrence\")\n",
    "print(\"gender:\")\n",
    "print(df1[0:fold_size][\"gender\"].value_counts(\"women\", \"man\"))\n",
    "print(\"above:\")\n",
    "print(df1[0:fold_size][\"above\"].value_counts(\"normal\"))\n",
    "print(\"gluc:\")\n",
    "print(df1[0:fold_size][\"gluc\"].value_counts(\"normal\"))\n",
    "print(\"smoke:\")\n",
    "print(df1[0:fold_size][\"smoke\"].value_counts(1))\n",
    "print(\"alco:\")\n",
    "print(df1[0:fold_size][\"alco\"].value_counts(1))\n",
    "print(\"active:\")\n",
    "print(df1[0:fold_size][\"active\"].value_counts(1))\n",
    "print(\"cardio:\")\n",
    "print(df1[0:fold_size][\"cardio\"].value_counts(1))"
   ]
  },
  {
   "cell_type": "code",
   "execution_count": null,
   "id": "25c62b68",
   "metadata": {},
   "outputs": [],
   "source": [
    "from sklearn.model_selection import train_test_split\n",
    "\n",
    "df = get_onehot_dataset()\n",
    "Y = df[[\"cardio\"]]\n",
    "X = df.loc[:, df.columns != 'cardio']\n",
    "x_train, x_test, y_train, y_test = train_test_split(X, Y, test_size=0.2, random_state=1)\n",
    "x_train = x_train.to_numpy()\n",
    "y_train = y_train.to_numpy()\n",
    "x_test = x_test.to_numpy()\n",
    "y_test = y_test.to_numpy()\n",
    "y_train = y_train.ravel()\n",
    "y_test = y_test.ravel()"
   ]
  },
  {
   "cell_type": "code",
   "execution_count": null,
   "id": "f9fc53ce",
   "metadata": {},
   "outputs": [],
   "source": [
    "from sklearn.model_selection import KFold, GridSearchCV, StratifiedKFold\n",
    "from sklearn.naive_bayes import GaussianNB\n",
    "\n",
    "best_kf = 2\n",
    "best_kf_value = 0 \n",
    "best_st = 2\n",
    "best_st_value = 0\n",
    "model = GaussianNB()\n",
    "\n",
    "for k in range(2, 72, 10):\n",
    "    kf = KFold(n_splits=k)\n",
    "    gs = GridSearchCV(model, cv=kf, param_grid={}, return_train_score=True)\n",
    "    gs.fit(x_train, y_train)\n",
    "    if gs.cv_results_['mean_test_score'][0] >= best_kf_value: \n",
    "        best_kf_value = gs.cv_results_['mean_test_score'][0]\n",
    "        best_kf = k \n",
    "    \n",
    "    stf = StratifiedKFold(n_splits=k)\n",
    "    gs = GridSearchCV(model, cv=stf, param_grid={}, return_train_score=True)\n",
    "    gs.fit(x_train, y_train)\n",
    "    if gs.cv_results_['mean_test_score'][0] >= best_st_value: \n",
    "        best_st_value = gs.cv_results_['mean_test_score'][0]\n",
    "        best_st = k\n",
    "        \n",
    "print(\"Best k fold:\", best_kf)\n",
    "print(\"Accuracy of best k fold:\", best_kf_value)\n",
    "print(\"Best stratified fold:\", best_st)\n",
    "print(\"Accuracy of best stratified fold:\", best_st_value)"
   ]
  },
  {
   "cell_type": "code",
   "execution_count": null,
   "id": "e78297d3",
   "metadata": {},
   "outputs": [],
   "source": [
    "from sklearn.model_selection import cross_val_score\n",
    "\n",
    "best_kf_cv = KFold(n_splits=best_kf) if best_st_value > best_kf_value else StratifiedKFold(n_splits=best_st)\n",
    "model = GaussianNB()\n",
    "gs = GridSearchCV(model, cv=best_kf_cv, param_grid={}, return_train_score=True)\n",
    "gs.fit(x_train, y_train)\n",
    "gs.cv_results_"
   ]
  },
  {
   "cell_type": "code",
   "execution_count": null,
   "id": "4a479eda",
   "metadata": {},
   "outputs": [],
   "source": [
    "from sklearn.metrics import accuracy_score\n",
    "\n",
    "best_model = gs.best_estimator_\n",
    "y_pred = best_model.predict(x_test)\n",
    "\n",
    "print(\"accuracy of model is:\", accuracy_score(y_test, y_pred))"
   ]
  }
 ],
 "metadata": {
  "kernelspec": {
   "display_name": "Python 3 (ipykernel)",
   "language": "python",
   "name": "python3"
  },
  "language_info": {
   "codemirror_mode": {
    "name": "ipython",
    "version": 3
   },
   "file_extension": ".py",
   "mimetype": "text/x-python",
   "name": "python",
   "nbconvert_exporter": "python",
   "pygments_lexer": "ipython3",
   "version": "3.8.10"
  }
 },
 "nbformat": 4,
 "nbformat_minor": 5
}
