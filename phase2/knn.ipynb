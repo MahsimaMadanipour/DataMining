{
 "cells": [
  {
   "cell_type": "code",
   "execution_count": 1,
   "id": "0aea23cd",
   "metadata": {
    "scrolled": true
   },
   "outputs": [
    {
     "name": "stdout",
     "output_type": "stream",
     "text": [
      "Requirement already satisfied: scikit-learn in /usr/local/lib/python3.8/dist-packages (1.1.1)\n",
      "Requirement already satisfied: threadpoolctl>=2.0.0 in /usr/local/lib/python3.8/dist-packages (from scikit-learn) (3.1.0)\n",
      "Requirement already satisfied: scipy>=1.3.2 in /home/shanli/.local/lib/python3.8/site-packages (from scikit-learn) (1.8.0)\n",
      "Requirement already satisfied: joblib>=1.0.0 in /usr/local/lib/python3.8/dist-packages (from scikit-learn) (1.1.0)\n",
      "Requirement already satisfied: numpy>=1.17.3 in /home/shanli/.local/lib/python3.8/site-packages (from scikit-learn) (1.22.3)\n",
      "\u001b[33mWARNING: You are using pip version 22.0.4; however, version 22.1.2 is available.\n",
      "You should consider upgrading via the '/usr/bin/python3 -m pip install --upgrade pip' command.\u001b[0m\u001b[33m\n",
      "\u001b[0mRequirement already satisfied: pandas in /home/shanli/.local/lib/python3.8/site-packages (1.4.1)\n",
      "Requirement already satisfied: pytz>=2020.1 in /home/shanli/.local/lib/python3.8/site-packages (from pandas) (2022.1)\n",
      "Requirement already satisfied: python-dateutil>=2.8.1 in /home/shanli/.local/lib/python3.8/site-packages (from pandas) (2.8.2)\n",
      "Requirement already satisfied: numpy>=1.18.5 in /home/shanli/.local/lib/python3.8/site-packages (from pandas) (1.22.3)\n",
      "Requirement already satisfied: six>=1.5 in /usr/lib/python3/dist-packages (from python-dateutil>=2.8.1->pandas) (1.14.0)\n",
      "\u001b[33mWARNING: You are using pip version 22.0.4; however, version 22.1.2 is available.\n",
      "You should consider upgrading via the '/usr/bin/python3 -m pip install --upgrade pip' command.\u001b[0m\u001b[33m\n",
      "\u001b[0m"
     ]
    }
   ],
   "source": [
    "!pip3 install scikit-learn\n",
    "!pip3 install pandas"
   ]
  },
  {
   "cell_type": "code",
   "execution_count": 2,
   "id": "ea41b6b0",
   "metadata": {},
   "outputs": [],
   "source": [
    "import pandas as pd \n",
    "input_file = \"cardio_train.csv\"\n",
    "df = pd.read_csv(input_file, header=0)"
   ]
  },
  {
   "cell_type": "code",
   "execution_count": 3,
   "id": "635c4349",
   "metadata": {
    "scrolled": true
   },
   "outputs": [],
   "source": [
    "import pandas as pd \n",
    "from sklearn.preprocessing import OneHotEncoder \n",
    "\n",
    "df_cat = df.select_dtypes(include='object')\n",
    "encoder = OneHotEncoder(sparse=False, handle_unknown='error')\n",
    "df_cat_encoded = encoder.fit_transform(df_cat)\n",
    "categorical_columns = [f'{col}_{cat}' for i, col in enumerate(df_cat.columns) for cat in encoder.categories_[i]]\n",
    "df_num = df.select_dtypes(exclude='object')\n",
    "df_cat = pd.DataFrame(df_cat_encoded, columns=categorical_columns)\n",
    "df = df_num.join(df_cat)"
   ]
  },
  {
   "cell_type": "code",
   "execution_count": 4,
   "id": "4b3993a6",
   "metadata": {},
   "outputs": [],
   "source": [
    "from sklearn.model_selection import train_test_split\n",
    "\n",
    "Y = df[[\"cardio\"]]\n",
    "X = df.loc[:, df.columns != 'cardio']\n",
    "\n",
    "x_train, x_test, y_train, y_test = train_test_split(X, Y, test_size=0.2, random_state=1)\n",
    "x_train = x_train.to_numpy()\n",
    "y_train = y_train.to_numpy()\n",
    "x_test = x_test.to_numpy()\n",
    "y_test = y_test.to_numpy()\n",
    "y_train = y_train.ravel()\n",
    "y_test = y_test.ravel()"
   ]
  },
  {
   "cell_type": "code",
   "execution_count": null,
   "id": "8894b27d",
   "metadata": {},
   "outputs": [],
   "source": [
    "from sklearn.model_selection import KFold, GridSearchCV, StratifiedKFold\n",
    "from sklearn.neighbors import KNeighborsClassifier\n",
    "\n",
    "\n",
    "best_k_kf = 1\n",
    "best_kf = 2\n",
    "best_kf_value = 0\n",
    "best_k_st = 1 \n",
    "best_st = 2\n",
    "best_st_value = 0\n",
    "\n",
    "for k in range(1, 100, 5):\n",
    "    model = KNeighborsClassifier(n_neighbors=k)\n",
    "\n",
    "    for k_fold in range(2, 100, 20):\n",
    "        kf = KFold(n_splits=k_fold)\n",
    "        gs = GridSearchCV(model, cv=kf, param_grid={}, return_train_score=True)\n",
    "        gs.fit(x_train, y_train)\n",
    "        if gs.cv_results_['mean_test_score'][0] >= best_kf_value: \n",
    "            best_kf_value = gs.cv_results_['mean_test_score'][0]\n",
    "            best_kf = k_fold\n",
    "            best_k_kf = k \n",
    "\n",
    "        stf = StratifiedKFold(n_splits=k_fold)\n",
    "        gs = GridSearchCV(model, cv=stf, param_grid={}, return_train_score=True)\n",
    "        gs.fit(x_train, y_train)\n",
    "        if gs.cv_results_['mean_test_score'][0] >= best_st_value: \n",
    "            best_st_value = gs.cv_results_['mean_test_score'][0]\n",
    "            best_st = k_fold\n",
    "            best_k_st = k \n",
    "        \n",
    "print(\"Best k for k fold:\", best_k_kf)\n",
    "print(\"Best k fold:\", best_kf)\n",
    "print(\"Accuracy of best k fold:\", best_kf_value)\n",
    "print(\"Best k for stratified fold:\", best_k_st)\n",
    "print(\"Best stratified fold:\", best_st)\n",
    "print(\"Accuracy of best stratified fold:\", best_st_value)"
   ]
  },
  {
   "cell_type": "code",
   "execution_count": null,
   "id": "7cd1b80b",
   "metadata": {},
   "outputs": [],
   "source": [
    "from sklearn.metrics import accuracy_score\n",
    "\n",
    "xs = []\n",
    "ys_train = []\n",
    "ys_test = []\n",
    "\n",
    "for k in range(10, 60, 10):\n",
    "    xs.append(k)\n",
    "    model = KNeighborsClassifier(n_neighbors=k)\n",
    "    model.fit(x_train, y_train)\n",
    "    y_pred = model.predict(x_train)\n",
    "    ys_train.append(accuracy_score(y_train, y_pred))\n",
    "\n",
    "    y_pred = model.predict(x_test)\n",
    "    ys_test.append(accuracy_score(y_test, y_pred))"
   ]
  },
  {
   "cell_type": "code",
   "execution_count": null,
   "id": "6840778d",
   "metadata": {},
   "outputs": [],
   "source": [
    "from matplotlib import pyplot as plt \n",
    "\n",
    "plt.plot(xs, ys_train)\n",
    "plt.show()\n",
    "\n",
    "plt.plot(xs, ys_test)\n",
    "plt.show()"
   ]
  },
  {
   "cell_type": "markdown",
   "id": "d46a8f28",
   "metadata": {},
   "source": [
    "We can pass weights parameter with value \""
   ]
  }
 ],
 "metadata": {
  "kernelspec": {
   "display_name": "Python 3 (ipykernel)",
   "language": "python",
   "name": "python3"
  },
  "language_info": {
   "codemirror_mode": {
    "name": "ipython",
    "version": 3
   },
   "file_extension": ".py",
   "mimetype": "text/x-python",
   "name": "python",
   "nbconvert_exporter": "python",
   "pygments_lexer": "ipython3",
   "version": "3.8.10"
  }
 },
 "nbformat": 4,
 "nbformat_minor": 5
}
